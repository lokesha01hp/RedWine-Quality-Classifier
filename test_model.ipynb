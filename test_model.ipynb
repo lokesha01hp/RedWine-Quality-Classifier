{
 "cells": [
  {
   "cell_type": "code",
   "execution_count": 3,
   "id": "d4fcf3a6",
   "metadata": {},
   "outputs": [],
   "source": [
    "# Load the saved model to predict the qualit\n",
    "\n",
    "import joblib\n",
    "\n",
    "xgboostmodel_loaded = joblib.load('xgboost_wine_model.pkl')\n"
   ]
  },
  {
   "cell_type": "code",
   "execution_count": 21,
   "id": "3295f53d",
   "metadata": {},
   "outputs": [
    {
     "name": "stdout",
     "output_type": "stream",
     "text": [
      "Predicted label: 1\n",
      "The quality of RedWine is Good\n"
     ]
    }
   ],
   "source": [
    "import numpy as np\n",
    "\n",
    "x_test = np.array([7.3,0.65,0.0,1.2,0.065,15.0,21.0,0.9946,3.39,0.47,10.0]).reshape(1, -1)\n",
    "\n",
    "# Predict\n",
    "y_pred = xgboostmodel_loaded.predict(x_test)\n",
    "print(\"Predicted label:\", y_pred[0])\n",
    "if y_pred[0] == 0:\n",
    "    print(\"The quality of RedWine is Bad\")\n",
    "else:\n",
    "    print(\"The quality of RedWine is Good\")\n"
   ]
  },
  {
   "cell_type": "code",
   "execution_count": 22,
   "id": "2b6e5b03",
   "metadata": {},
   "outputs": [
    {
     "name": "stdout",
     "output_type": "stream",
     "text": [
      "Predicted label: 0\n",
      "The quality of RedWine is Bad\n"
     ]
    }
   ],
   "source": [
    "# Load your saved model\n",
    "xgboostmodel_loaded = joblib.load('xgboost_wine_model.pkl')\n",
    "x_test = np.array([5.7,1.13,0.09,1.5,0.172,7.0,19.0,0.9940000000000001,3.5,0.48,9.8]).reshape(1, -1)\n",
    "# Predict\n",
    "y_pred = xgboostmodel_loaded.predict(x_test)\n",
    "print(\"Predicted label:\", y_pred[0])\n",
    "if y_pred[0] == 0:\n",
    "    print(\"The quality of RedWine is Bad\")\n",
    "else:\n",
    "    print(\"The quality of RedWine is Good\")\n"
   ]
  },
  {
   "cell_type": "code",
   "execution_count": null,
   "id": "a82ff56c",
   "metadata": {},
   "outputs": [],
   "source": []
  }
 ],
 "metadata": {
  "kernelspec": {
   "display_name": "base",
   "language": "python",
   "name": "python3"
  },
  "language_info": {
   "codemirror_mode": {
    "name": "ipython",
    "version": 3
   },
   "file_extension": ".py",
   "mimetype": "text/x-python",
   "name": "python",
   "nbconvert_exporter": "python",
   "pygments_lexer": "ipython3",
   "version": "3.12.4"
  }
 },
 "nbformat": 4,
 "nbformat_minor": 5
}
